{
 "cells": [
  {
   "cell_type": "code",
   "execution_count": 1,
   "metadata": {},
   "outputs": [
    {
     "name": "stdout",
     "output_type": "stream",
     "text": [
      "Defaulting to user installation because normal site-packages is not writeable\n",
      "Requirement already satisfied: numpy in /home/vscode/.local/lib/python3.11/site-packages (2.1.3)\n",
      "Requirement already satisfied: matplotlib in /home/vscode/.local/lib/python3.11/site-packages (3.10.3)\n",
      "Requirement already satisfied: opencv-python in /home/vscode/.local/lib/python3.11/site-packages (4.11.0.86)\n",
      "Requirement already satisfied: scikit-image in /home/vscode/.local/lib/python3.11/site-packages (0.25.2)\n",
      "Requirement already satisfied: contourpy>=1.0.1 in /home/vscode/.local/lib/python3.11/site-packages (from matplotlib) (1.3.2)\n",
      "Requirement already satisfied: cycler>=0.10 in /home/vscode/.local/lib/python3.11/site-packages (from matplotlib) (0.12.1)\n",
      "Requirement already satisfied: fonttools>=4.22.0 in /home/vscode/.local/lib/python3.11/site-packages (from matplotlib) (4.58.0)\n",
      "Requirement already satisfied: kiwisolver>=1.3.1 in /home/vscode/.local/lib/python3.11/site-packages (from matplotlib) (1.4.8)\n",
      "Requirement already satisfied: packaging>=20.0 in /home/vscode/.local/lib/python3.11/site-packages (from matplotlib) (25.0)\n",
      "Requirement already satisfied: pillow>=8 in /home/vscode/.local/lib/python3.11/site-packages (from matplotlib) (11.2.1)\n",
      "Requirement already satisfied: pyparsing>=2.3.1 in /home/vscode/.local/lib/python3.11/site-packages (from matplotlib) (3.2.3)\n",
      "Requirement already satisfied: python-dateutil>=2.7 in /home/vscode/.local/lib/python3.11/site-packages (from matplotlib) (2.9.0.post0)\n",
      "Requirement already satisfied: scipy>=1.11.4 in /home/vscode/.local/lib/python3.11/site-packages (from scikit-image) (1.15.3)\n",
      "Requirement already satisfied: networkx>=3.0 in /home/vscode/.local/lib/python3.11/site-packages (from scikit-image) (3.4.2)\n",
      "Requirement already satisfied: imageio!=2.35.0,>=2.33 in /home/vscode/.local/lib/python3.11/site-packages (from scikit-image) (2.37.0)\n",
      "Requirement already satisfied: tifffile>=2022.8.12 in /home/vscode/.local/lib/python3.11/site-packages (from scikit-image) (2025.5.21)\n",
      "Requirement already satisfied: lazy-loader>=0.4 in /home/vscode/.local/lib/python3.11/site-packages (from scikit-image) (0.4)\n",
      "Requirement already satisfied: six>=1.5 in /home/vscode/.local/lib/python3.11/site-packages (from python-dateutil>=2.7->matplotlib) (1.17.0)\n",
      "\n",
      "\u001b[1m[\u001b[0m\u001b[34;49mnotice\u001b[0m\u001b[1;39;49m]\u001b[0m\u001b[39;49m A new release of pip is available: \u001b[0m\u001b[31;49m24.0\u001b[0m\u001b[39;49m -> \u001b[0m\u001b[32;49m25.1.1\u001b[0m\n",
      "\u001b[1m[\u001b[0m\u001b[34;49mnotice\u001b[0m\u001b[1;39;49m]\u001b[0m\u001b[39;49m To update, run: \u001b[0m\u001b[32;49mpip install --upgrade pip\u001b[0m\n",
      "Note: you may need to restart the kernel to use updated packages.\n"
     ]
    }
   ],
   "source": [
    "%pip install numpy matplotlib opencv-python scikit-image\n"
   ]
  },
  {
   "cell_type": "code",
   "execution_count": 2,
   "metadata": {},
   "outputs": [
    {
     "name": "stdout",
     "output_type": "stream",
     "text": [
      "✅ All libraries imported successfully\n"
     ]
    }
   ],
   "source": [
    "import cv2\n",
    "import os\n",
    "import numpy as np\n",
    "import matplotlib.pyplot as plt\n",
    "from skimage import filters , morphology, measure\n",
    "print(\"✅ All libraries imported successfully\")\n"
   ]
  },
  {
   "cell_type": "code",
   "execution_count": 3,
   "metadata": {},
   "outputs": [
    {
     "ename": "FileNotFoundError",
     "evalue": "[Errno 2] No such file or directory: 'D:\\\\PHD\\\\Image Analysing Program\\\\covid19-pneumonia-normal-chest-xraypa-dataset\\\\COVID19_Pneumonia_Normal_Chest_Xray_PA_Dataset/covid'",
     "output_type": "error",
     "traceback": [
      "\u001b[31m---------------------------------------------------------------------------\u001b[39m",
      "\u001b[31mFileNotFoundError\u001b[39m                         Traceback (most recent call last)",
      "\u001b[36mCell\u001b[39m\u001b[36m \u001b[39m\u001b[32mIn[3]\u001b[39m\u001b[32m, line 8\u001b[39m\n\u001b[32m      6\u001b[39m \u001b[38;5;28;01mfor\u001b[39;00m label \u001b[38;5;129;01min\u001b[39;00m categories:\n\u001b[32m      7\u001b[39m     folder = os.path.join(base_path, label)\n\u001b[32m----> \u001b[39m\u001b[32m8\u001b[39m     \u001b[38;5;28;01mfor\u001b[39;00m file \u001b[38;5;129;01min\u001b[39;00m \u001b[43mos\u001b[49m\u001b[43m.\u001b[49m\u001b[43mlistdir\u001b[49m\u001b[43m(\u001b[49m\u001b[43mfolder\u001b[49m\u001b[43m)\u001b[49m:\n\u001b[32m      9\u001b[39m         \u001b[38;5;28;01mif\u001b[39;00m file.endswith(\u001b[33m\"\u001b[39m\u001b[33m.png\u001b[39m\u001b[33m\"\u001b[39m) \u001b[38;5;129;01mor\u001b[39;00m file.endswith(\u001b[33m\"\u001b[39m\u001b[33m.jpg\u001b[39m\u001b[33m\"\u001b[39m):\n\u001b[32m     10\u001b[39m             image_paths.append((os.path.join(folder, file), label))\n",
      "\u001b[31mFileNotFoundError\u001b[39m: [Errno 2] No such file or directory: 'D:\\\\PHD\\\\Image Analysing Program\\\\covid19-pneumonia-normal-chest-xraypa-dataset\\\\COVID19_Pneumonia_Normal_Chest_Xray_PA_Dataset/covid'"
     ]
    }
   ],
   "source": [
    "base_path = r\"D:\\PHD\\Image Analysing Program\\covid19-pneumonia-normal-chest-xraypa-dataset\\COVID19_Pneumonia_Normal_Chest_Xray_PA_Dataset\"  # Change to your extracted folder path\n",
    "\n",
    "categories = ['covid', 'pneumonia', 'normal']\n",
    "image_paths = []\n",
    "\n",
    "for label in categories:\n",
    "    folder = os.path.join(base_path, label)\n",
    "    for file in os.listdir(folder):\n",
    "        if file.endswith(\".png\") or file.endswith(\".jpg\"):\n",
    "            image_paths.append((os.path.join(folder, file), label))\n",
    "            break  # just take one example per class for now\n",
    "\n",
    "print(image_paths)\n"
   ]
  },
  {
   "cell_type": "code",
   "execution_count": null,
   "metadata": {},
   "outputs": [],
   "source": [
    "for path, label in image_paths:\n",
    "    img = cv2.imread(path, cv2.IMREAD_GRAYSCALE)\n",
    "    plt.imshow(img, cmap='gray')\n",
    "    plt.title(f\"{label.upper()} Sample\")\n",
    "    plt.axis(\"off\")\n",
    "    plt.show()\n"
   ]
  },
  {
   "cell_type": "code",
   "execution_count": null,
   "metadata": {},
   "outputs": [],
   "source": [
    "image = cv2.imread(image_paths[0][0], cv2.IMREAD_GRAYSCALE)\n",
    "\n",
    "# Normalize and blur\n",
    "image = image / 255.0\n",
    "blurred = cv2.GaussianBlur(image, (5, 5), 0)\n",
    "\n",
    "plt.imshow(blurred, cmap='gray')\n",
    "plt.title(\"Blurred Image\")\n",
    "plt.axis(\"off\")\n",
    "plt.show()\n"
   ]
  },
  {
   "cell_type": "code",
   "execution_count": null,
   "metadata": {},
   "outputs": [],
   "source": [
    "thresh = filters.threshold_otsu(blurred)\n",
    "binary = blurred > thresh\n",
    "binary = morphology.remove_small_objects(binary, 500)\n",
    "\n",
    "plt.imshow(binary, cmap='gray')\n",
    "plt.title(\"Segmented Region\")\n",
    "plt.axis(\"off\")\n",
    "plt.show()\n"
   ]
  },
  {
   "cell_type": "code",
   "execution_count": null,
   "metadata": {},
   "outputs": [],
   "source": [
    "labels = measure.label(binary)\n",
    "props = measure.regionprops(labels)\n",
    "\n",
    "for i, region in enumerate(props):\n",
    "    print(f\"Region {i+1}: Area = {region.area}, Centroid = {region.centroid}\")\n"
   ]
  },
  {
   "cell_type": "code",
   "execution_count": null,
   "metadata": {},
   "outputs": [],
   "source": [
    "%pip install tensorflow\n",
    "%pip install scikit-learn matplotlib opencv-python\n"
   ]
  },
  {
   "cell_type": "code",
   "execution_count": 25,
   "metadata": {},
   "outputs": [],
   "source": [
    "from sklearn.model_selection import train_test_split\n",
    "from sklearn.preprocessing import LabelEncoder\n",
    "from tensorflow.keras.utils import to_categorical\n",
    "from tensorflow.keras.models import Sequential\n",
    "from tensorflow.keras.layers import Conv2D, MaxPooling2D, Flatten, Dense, Dropout\n",
    "from tensorflow.keras.optimizers import Adam\n"
   ]
  },
  {
   "cell_type": "code",
   "execution_count": 26,
   "metadata": {},
   "outputs": [],
   "source": [
    "# Path to extracted folders\n",
    "base_path = r\"D:\\PHD\\Image Analysing Program\\covid19-pneumonia-normal-chest-xraypa-dataset\\COVID19_Pneumonia_Normal_Chest_Xray_PA_Dataset\"  # Change to your extracted folder path\n",
    "\n",
    "categories = ['COVID', 'PNEUMONIA', 'NORMAL']\n",
    "\n",
    "data = []\n",
    "labels = []\n",
    "img_size = 128  # Resize all images to 128x128\n",
    "\n",
    "for category in categories:\n",
    "    folder = os.path.join(base_path, category)\n",
    "    for file in os.listdir(folder):\n",
    "        if file.endswith(\".png\") or file.endswith(\".jpg\"):\n",
    "            try:\n",
    "                img_path = os.path.join(folder, file)\n",
    "                img = cv2.imread(img_path, cv2.IMREAD_GRAYSCALE)\n",
    "                img = cv2.resize(img, (img_size, img_size))\n",
    "                data.append(img)\n",
    "                labels.append(category)\n",
    "            except:\n",
    "                print(f\"Failed to process: {img_path}\")\n"
   ]
  },
  {
   "cell_type": "code",
   "execution_count": 27,
   "metadata": {},
   "outputs": [],
   "source": [
    "X = np.array(data).reshape(-1, img_size, img_size, 1) / 255.0  # Normalize\n",
    "le = LabelEncoder()\n",
    "y = to_categorical(le.fit_transform(labels))  # One-hot encoding\n"
   ]
  },
  {
   "cell_type": "code",
   "execution_count": 28,
   "metadata": {},
   "outputs": [],
   "source": [
    "X_train, X_val, y_train, y_val = train_test_split(X, y, test_size=0.2, random_state=42, stratify=y)\n"
   ]
  },
  {
   "cell_type": "code",
   "execution_count": null,
   "metadata": {},
   "outputs": [],
   "source": [
    "model = Sequential([\n",
    "    Conv2D(32, (3,3), activation='relu', input_shape=(img_size, img_size, 1)),\n",
    "    MaxPooling2D(2,2),\n",
    "    Conv2D(64, (3,3), activation='relu'),\n",
    "    MaxPooling2D(2,2),\n",
    "    Flatten(),\n",
    "    Dense(128, activation='relu'),\n",
    "    Dropout(0.5),\n",
    "    Dense(3, activation='softmax')  # 3 classes\n",
    "])\n",
    "\n",
    "model.compile(optimizer=Adam(learning_rate=0.001), loss='categorical_crossentropy', metrics=['accuracy'])\n",
    "model.summary()\n"
   ]
  },
  {
   "cell_type": "code",
   "execution_count": null,
   "metadata": {},
   "outputs": [],
   "source": [
    "history = model.fit(X_train, y_train, validation_data=(X_val, y_val), epochs=10, batch_size=32)\n"
   ]
  },
  {
   "cell_type": "code",
   "execution_count": 33,
   "metadata": {},
   "outputs": [],
   "source": [
    "model.save(\"xray_cnn_model.h5\")\n"
   ]
  },
  {
   "cell_type": "code",
   "execution_count": null,
   "metadata": {},
   "outputs": [],
   "source": [
    "plt.plot(history.history['accuracy'], label='Train Accuracy')\n",
    "plt.plot(history.history['val_accuracy'], label='Val Accuracy')\n",
    "plt.legend()\n",
    "plt.title('Accuracy Over Epochs')\n",
    "plt.show()\n"
   ]
  },
  {
   "cell_type": "code",
   "execution_count": null,
   "metadata": {},
   "outputs": [],
   "source": [
    "from sklearn.metrics import classification_report, confusion_matrix\n",
    "import seaborn as sns\n",
    "\n",
    "y_pred = model.predict(X_val)\n",
    "y_pred_classes = np.argmax(y_pred, axis=1)\n",
    "y_true = np.argmax(y_val, axis=1)\n",
    "\n",
    "print(classification_report(y_true, y_pred_classes, target_names=le.classes_))\n",
    "\n",
    "cm = confusion_matrix(y_true, y_pred_classes)\n",
    "sns.heatmap(cm, annot=True, fmt=\"d\", xticklabels=le.classes_, yticklabels=le.classes_, cmap=\"Blues\")\n",
    "plt.xlabel(\"Predicted\")\n",
    "plt.ylabel(\"Actual\")\n",
    "plt.show()\n"
   ]
  },
  {
   "cell_type": "code",
   "execution_count": 15,
   "metadata": {},
   "outputs": [],
   "source": [
    "from sklearn.ensemble import RandomForestClassifier\n",
    "from sklearn.svm import SVC\n",
    "from sklearn.model_selection import train_test_split\n",
    "from sklearn.metrics import classification_report, confusion_matrix"
   ]
  },
  {
   "cell_type": "code",
   "execution_count": 17,
   "metadata": {},
   "outputs": [],
   "source": [
    "base_path = r\"D:\\PHD\\Image Analysing Program\\covid19-pneumonia-normal-chest-xraypa-dataset\\COVID19_Pneumonia_Normal_Chest_Xray_PA_Dataset\"  # Change to your extracted folder path\n",
    "\n",
    "categories = ['COVID', 'PNEUMONIA', 'NORMAL']\n",
    "\n",
    "X_features = []\n",
    "y_labels = []\n",
    "img_size = 256\n",
    "\n",
    "for label in categories:\n",
    "    folder = os.path.join(base_path, label)\n",
    "    for file in os.listdir(folder)[:50]:  # limit to 50 per class for now\n",
    "        if file.endswith('.png') or file.endswith('.jpg'):\n",
    "            path = os.path.join(folder, file)\n",
    "            img = cv2.imread(path, cv2.IMREAD_GRAYSCALE)\n",
    "            img = cv2.resize(img, (img_size, img_size))\n",
    "            norm = img / 255.0\n",
    "\n",
    "            # Segmentation\n",
    "            blur = cv2.GaussianBlur(norm, (5,5), 0)\n",
    "            thresh = filters.threshold_otsu(blur)\n",
    "            binary = blur > thresh\n",
    "            binary = morphology.remove_small_objects(binary, 500)\n",
    "\n",
    "            # Feature extraction\n",
    "            label_img = measure.label(binary)\n",
    "            props = measure.regionprops(label_img)\n",
    "\n",
    "            if props:\n",
    "                largest = max(props, key=lambda p: p.area)\n",
    "                features = [\n",
    "                    largest.area,\n",
    "                    largest.perimeter,\n",
    "                    largest.eccentricity,\n",
    "                    largest.solidity,\n",
    "                    largest.extent,\n",
    "                    np.mean(img),\n",
    "                    np.std(img)\n",
    "                ]\n",
    "                X_features.append(features)\n",
    "                y_labels.append(label)\n"
   ]
  },
  {
   "cell_type": "code",
   "execution_count": 18,
   "metadata": {},
   "outputs": [],
   "source": [
    "from sklearn.preprocessing import LabelEncoder\n",
    "\n",
    "X = np.array(X_features)\n",
    "y = LabelEncoder().fit_transform(y_labels)\n",
    "\n",
    "X_train, X_test, y_train, y_test = train_test_split(X, y, test_size=0.2, random_state=42)\n"
   ]
  },
  {
   "cell_type": "code",
   "execution_count": null,
   "metadata": {},
   "outputs": [],
   "source": [
    "rf = RandomForestClassifier(n_estimators=100, random_state=42)\n",
    "rf.fit(X_train, y_train)\n",
    "y_pred_rf = rf.predict(X_test)\n",
    "print(\"Random Forest Classification Report:\\n\", classification_report(y_test, y_pred_rf))\n"
   ]
  },
  {
   "cell_type": "code",
   "execution_count": null,
   "metadata": {},
   "outputs": [],
   "source": [
    "svm = SVC(kernel='linear')\n",
    "svm.fit(X_train, y_train)\n",
    "y_pred_svm = svm.predict(X_test)\n",
    "print(\"SVM Classification Report:\\n\", classification_report(y_test, y_pred_svm))\n"
   ]
  },
  {
   "cell_type": "code",
   "execution_count": null,
   "metadata": {},
   "outputs": [],
   "source": [
    "import seaborn as sns\n",
    "\n",
    "cm = confusion_matrix(y_test, y_pred_rf)\n",
    "sns.heatmap(cm, annot=True, fmt='d')\n",
    "plt.title(\"Random Forest Confusion Matrix\")\n",
    "plt.xlabel(\"Predicted\")\n",
    "plt.ylabel(\"True\")\n",
    "plt.show()\n"
   ]
  },
  {
   "cell_type": "code",
   "execution_count": null,
   "metadata": {},
   "outputs": [],
   "source": [
    "import seaborn as sns\n",
    "import pandas as pd\n",
    "\n",
    "df = pd.DataFrame({'Label': y_labels})\n",
    "sns.countplot(x='Label', data=df)\n",
    "plt.title(\"Image Count per Class\")\n",
    "plt.show()\n"
   ]
  },
  {
   "cell_type": "code",
   "execution_count": null,
   "metadata": {},
   "outputs": [],
   "source": [
    "df_features = pd.DataFrame(X_features, columns=[\n",
    "    \"Area\", \"Perimeter\", \"Eccentricity\", \"Solidity\", \"Extent\", \"Mean Intensity\", \"Std Intensity\"])\n",
    "df_features[\"Label\"] = y_labels\n",
    "\n",
    "plt.figure(figsize=(12, 6))\n",
    "sns.boxplot(x=\"Label\", y=\"Area\", data=df_features)\n",
    "plt.title(\"Area Distribution by Class\")\n",
    "plt.show()\n"
   ]
  },
  {
   "cell_type": "code",
   "execution_count": 24,
   "metadata": {},
   "outputs": [],
   "source": [
    "df_features.to_csv(\"xray_feature_report.csv\", index=False)\n"
   ]
  }
 ],
 "metadata": {
  "kernelspec": {
   "display_name": "Python 3",
   "language": "python",
   "name": "python3"
  },
  "language_info": {
   "codemirror_mode": {
    "name": "ipython",
    "version": 3
   },
   "file_extension": ".py",
   "mimetype": "text/x-python",
   "name": "python",
   "nbconvert_exporter": "python",
   "pygments_lexer": "ipython3",
   "version": "3.11.12"
  }
 },
 "nbformat": 4,
 "nbformat_minor": 2
}
